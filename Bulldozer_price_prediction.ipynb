{
  "nbformat": 4,
  "nbformat_minor": 0,
  "metadata": {
    "colab": {
      "name": "proj2",
      "provenance": [],
      "collapsed_sections": []
    },
    "kernelspec": {
      "name": "python3",
      "display_name": "Python 3"
    },
    "language_info": {
      "name": "python"
    }
  },
  "cells": [
    {
      "cell_type": "markdown",
      "source": [
        "# **Data Dictionary**\n",
        "\n",
        "**SalesID**                    of a machine at auction\n",
        "                             identifier for a particular machine;\n",
        "\n",
        "**MachineID**                  machines may have multiple sales\n",
        "                             identifier for a unique machine model\n",
        "\n",
        "**ModelID**                    (i.e. fiModelDesc)\n",
        "                             source of the sale record; some\n",
        "                           sources are more diligent about\n",
        "                           reporting attributes of the machine\n",
        "                           than others. Note that a particular\n",
        "                           datasource may report on multiple\n",
        "\n",
        "**datasource**                auctioneerIDs.\n",
        "                             identifier of a particular auctioneer,\n",
        "                           i.e. company that sold the machine at\n",
        "\n",
        "**auctioneerID**              auction. Not the same as datasource.\n",
        "\n",
        "**YearMade**                     year of manufacturer of the Machine\n",
        "                             current usage of the machine in\n",
        "                           hours at time of sale (saledate); null\n",
        "                           or 0 means no hours have been\n",
        "\n",
        "**MachineHoursCurrentMeter**   reported for that sale\n",
        "                             value (low, medium, high) calculated\n",
        "                           comparing this particular Machine-\n",
        "                           Sale hours to average usage for the\n",
        "                           fiBaseModel; e.g. 'Low' means this\n",
        "                           machine has less hours given it's\n",
        "                           lifespan relative to average of\n",
        "\n",
        "**UsageBand**                 fiBaseModel.\n",
        "\n",
        "**Saledate**                   time of sale\n",
        "\n",
        "**Saleprice**                 cost of sale in USD\n",
        "                             Description of a unique machine\n",
        "                           model (see ModelID); concatenation\n",
        "                           of fiBaseModel & fiSecondaryDesc &\n",
        "\n",
        "**fiModelDesc**              fiModelSeries & fiModelDescriptor\n",
        "\n",
        "**fiBaseModel**                disaggregation of fiModelDesc\n",
        "\n",
        "**fiSecondaryDesc**           disaggregation of fiModelDesc\n",
        "\n",
        "**fiModelSeries**            disaggregation of fiModelDesc\n",
        "\n",
        "**fiModelDescriptor**          disaggregation of fiModelDesc\n",
        "\n",
        "**ProductSize**            Don't know what this is                  group.\n",
        "                             description of 2nd level hierarchical\n",
        "                           grouping (below ProductGroup) of\n",
        "\n",
        "**ProductClassDesc**           fiModelDesc\n",
        "\n",
        "**State**                        US State in which sale occurred\n",
        "                             identifier for top-level hierarchical\n",
        "\n",
        "**ProductGroup**               grouping of fiModelDesc\n",
        "                             description of top-level hierarchical\n",
        "\n",
        "**ProductGroupDesc**           grouping of fiModelDesc\n",
        "                           machine configuration; typcially\n",
        "\n",
        "**Drive_System**               describes whether 2 or 4 wheel drive\n",
        "                           machine configuration - does machine\n",
        "\n",
        "**Enclosure**                  have an enclosed cab or not\n",
        "                           machine configuration - attachment\n",
        "\n",
        "**Forks**                      used for lifting\n",
        "                           machine configuration - type of treads\n",
        "\n",
        "**Pad_Type**                   a crawler machine uses\n",
        "                           machine configuration - optional\n",
        "                           feature on loaders to make the ride\n",
        "\n",
        "**Ride_Control**               smoother\n",
        "\n",
        "**Stick**                      machine configuration - type of control\n",
        "                           machine configuration - describes\n",
        "                           type of transmission; typically\n",
        "\n",
        "**Transmission**               automatic or manual\n",
        "                          machine configuration - engine\n",
        "\n",
        "**Turbocharged**              naturally aspirated or turbocharged\n",
        "                          machine configuration - extension of\n",
        "\n",
        "**Blade_Extension**           standard blade\n",
        "\n",
        "**Blade_Width**               machine configuration - width of blade\n",
        "                          machine configuration - does machine\n",
        "\n",
        "**Enclosure_Type**            have an enclosed cab or not\n",
        "                          machine configuration - engine\n",
        "\n",
        "**Engine_Horsepower**         horsepower rating\n",
        "                          machine configuration - type of\n",
        "\n",
        "**Hydraulics**                hydraulics\n",
        "\n",
        "**Pushblock**                 machine configuration - option\n",
        "                          machine configuration - implement\n",
        "\n",
        "**Ripper**                    attached to machine to till soil\n",
        "                          machine configuration - implement\n",
        "\n",
        "**Scarifier**                 attached to machine to condition soil\n",
        "                          machine configuration - type of blade\n",
        "\n",
        "**Tip_control**               control\n",
        "                          machine configuration - size of\n",
        "\n",
        "**Tire_Size**                 primary tires\n",
        "                          machine configuration - type of\n",
        "\n",
        "**Coupler**                   implement interface\n",
        "                          machine configuration - type of\n",
        "\n",
        "**Coupler_System**            implement interface\n",
        "                          machine configuration - describes\n",
        "\n",
        "**Grouser_Tracks**            ground contact interface\n",
        "                          machine configuration - normal or\n",
        "\n",
        "**Hydraulics_Flow**           high flow hydraulic system\n",
        "                          machine configuration - type of treads\n",
        "\n",
        "**Track_Type**                a crawler machine uses\n",
        "                          machine configuration - width of\n",
        "\n",
        "**Undercarriage_Pad_Width**   crawler treads\n",
        "                          machine configuration - length of\n",
        "\n",
        "**Stick_Length**              machine digging implement\n",
        "                          machine configuration - attachment\n",
        "\n",
        "**Thumb**                     used for grabbing\n",
        "                          machine configuration - can adjust the\n",
        "                          operator control configuration to suit\n",
        "\n",
        "**Pattern_Changer**           the user\n",
        "                          machine configuration - type of treads\n",
        "\n",
        "**Grouser_Type**              a crawler machine uses\n",
        "                          machine configuration - optional\n",
        "                          interface used to add a backhoe\n",
        "\n",
        "**Backhoe_Mounting**          attachment\n",
        "                          machine configuration - describes\n",
        "\n",
        "**Blade_Type**               type of blade\n",
        "                          machine configuration - describes\n",
        "\n",
        "**Travel_Controls**           operator control configuration\n",
        "                          machine configuration - differential\n",
        "\n",
        "**Differential_Type**         type, typically locking or standard\n",
        "                          machine configuration - describes\n",
        "\n",
        "**Steering_Controls**         operator control configuration\n"
      ],
      "metadata": {
        "id": "bzRSbQANJDRQ"
      }
    },
    {
      "cell_type": "code",
      "source": [
        "# Importing the tools\n",
        "\n",
        "import pandas as pd\n",
        "import numpy as np\n",
        "import matplotlib.pyplot as plt\n",
        "\n",
        "%matplotlib inline\n",
        "\n",
        "from sklearn.ensemble import RandomForestRegressor\n",
        "from sklearn.metrics import mean_squared_log_error, r2_score, mean_absolute_error\n",
        "from sklearn.model_selection import GridSearchCV, RandomizedSearchCV"
      ],
      "metadata": {
        "id": "1JTt56e9NnIv"
      },
      "execution_count": 139,
      "outputs": []
    },
    {
      "cell_type": "code",
      "source": [
        "df = pd.read_csv('/content/drive/MyDrive/Colab Notebooks/files/TrainAndValid.csv', low_memory=False, parse_dates=['saledate'])"
      ],
      "metadata": {
        "id": "Eel-AUdaOkMs"
      },
      "execution_count": 38,
      "outputs": []
    },
    {
      "cell_type": "markdown",
      "source": [
        "#**Data Exploration**"
      ],
      "metadata": {
        "id": "Ct8NFjf0V7i7"
      }
    },
    {
      "cell_type": "code",
      "source": [
        "df.head()  #(Transpose to see every column)"
      ],
      "metadata": {
        "colab": {
          "base_uri": "https://localhost:8080/",
          "height": 386
        },
        "id": "dItP9TquOnXQ",
        "outputId": "cee8caa6-13ed-4b26-d4a6-59a0855ac541"
      },
      "execution_count": 39,
      "outputs": [
        {
          "output_type": "execute_result",
          "data": {
            "text/plain": [
              "   SalesID  SalePrice  MachineID  ModelID  datasource  auctioneerID  YearMade  \\\n",
              "0  1139246    66000.0     999089     3157         121           3.0      2004   \n",
              "1  1139248    57000.0     117657       77         121           3.0      1996   \n",
              "2  1139249    10000.0     434808     7009         121           3.0      2001   \n",
              "3  1139251    38500.0    1026470      332         121           3.0      2001   \n",
              "4  1139253    11000.0    1057373    17311         121           3.0      2007   \n",
              "\n",
              "   MachineHoursCurrentMeter UsageBand   saledate  ... Undercarriage_Pad_Width  \\\n",
              "0                      68.0       Low 2006-11-16  ...                     NaN   \n",
              "1                    4640.0       Low 2004-03-26  ...                     NaN   \n",
              "2                    2838.0      High 2004-02-26  ...                     NaN   \n",
              "3                    3486.0      High 2011-05-19  ...                     NaN   \n",
              "4                     722.0    Medium 2009-07-23  ...                     NaN   \n",
              "\n",
              "  Stick_Length Thumb Pattern_Changer Grouser_Type Backhoe_Mounting Blade_Type  \\\n",
              "0          NaN   NaN             NaN          NaN              NaN        NaN   \n",
              "1          NaN   NaN             NaN          NaN              NaN        NaN   \n",
              "2          NaN   NaN             NaN          NaN              NaN        NaN   \n",
              "3          NaN   NaN             NaN          NaN              NaN        NaN   \n",
              "4          NaN   NaN             NaN          NaN              NaN        NaN   \n",
              "\n",
              "  Travel_Controls Differential_Type Steering_Controls  \n",
              "0             NaN          Standard      Conventional  \n",
              "1             NaN          Standard      Conventional  \n",
              "2             NaN               NaN               NaN  \n",
              "3             NaN               NaN               NaN  \n",
              "4             NaN               NaN               NaN  \n",
              "\n",
              "[5 rows x 53 columns]"
            ],
            "text/html": [
              "\n",
              "  <div id=\"df-240d3d28-e7f1-441f-8c6a-64bc745e39e2\">\n",
              "    <div class=\"colab-df-container\">\n",
              "      <div>\n",
              "<style scoped>\n",
              "    .dataframe tbody tr th:only-of-type {\n",
              "        vertical-align: middle;\n",
              "    }\n",
              "\n",
              "    .dataframe tbody tr th {\n",
              "        vertical-align: top;\n",
              "    }\n",
              "\n",
              "    .dataframe thead th {\n",
              "        text-align: right;\n",
              "    }\n",
              "</style>\n",
              "<table border=\"1\" class=\"dataframe\">\n",
              "  <thead>\n",
              "    <tr style=\"text-align: right;\">\n",
              "      <th></th>\n",
              "      <th>SalesID</th>\n",
              "      <th>SalePrice</th>\n",
              "      <th>MachineID</th>\n",
              "      <th>ModelID</th>\n",
              "      <th>datasource</th>\n",
              "      <th>auctioneerID</th>\n",
              "      <th>YearMade</th>\n",
              "      <th>MachineHoursCurrentMeter</th>\n",
              "      <th>UsageBand</th>\n",
              "      <th>saledate</th>\n",
              "      <th>...</th>\n",
              "      <th>Undercarriage_Pad_Width</th>\n",
              "      <th>Stick_Length</th>\n",
              "      <th>Thumb</th>\n",
              "      <th>Pattern_Changer</th>\n",
              "      <th>Grouser_Type</th>\n",
              "      <th>Backhoe_Mounting</th>\n",
              "      <th>Blade_Type</th>\n",
              "      <th>Travel_Controls</th>\n",
              "      <th>Differential_Type</th>\n",
              "      <th>Steering_Controls</th>\n",
              "    </tr>\n",
              "  </thead>\n",
              "  <tbody>\n",
              "    <tr>\n",
              "      <th>0</th>\n",
              "      <td>1139246</td>\n",
              "      <td>66000.0</td>\n",
              "      <td>999089</td>\n",
              "      <td>3157</td>\n",
              "      <td>121</td>\n",
              "      <td>3.0</td>\n",
              "      <td>2004</td>\n",
              "      <td>68.0</td>\n",
              "      <td>Low</td>\n",
              "      <td>2006-11-16</td>\n",
              "      <td>...</td>\n",
              "      <td>NaN</td>\n",
              "      <td>NaN</td>\n",
              "      <td>NaN</td>\n",
              "      <td>NaN</td>\n",
              "      <td>NaN</td>\n",
              "      <td>NaN</td>\n",
              "      <td>NaN</td>\n",
              "      <td>NaN</td>\n",
              "      <td>Standard</td>\n",
              "      <td>Conventional</td>\n",
              "    </tr>\n",
              "    <tr>\n",
              "      <th>1</th>\n",
              "      <td>1139248</td>\n",
              "      <td>57000.0</td>\n",
              "      <td>117657</td>\n",
              "      <td>77</td>\n",
              "      <td>121</td>\n",
              "      <td>3.0</td>\n",
              "      <td>1996</td>\n",
              "      <td>4640.0</td>\n",
              "      <td>Low</td>\n",
              "      <td>2004-03-26</td>\n",
              "      <td>...</td>\n",
              "      <td>NaN</td>\n",
              "      <td>NaN</td>\n",
              "      <td>NaN</td>\n",
              "      <td>NaN</td>\n",
              "      <td>NaN</td>\n",
              "      <td>NaN</td>\n",
              "      <td>NaN</td>\n",
              "      <td>NaN</td>\n",
              "      <td>Standard</td>\n",
              "      <td>Conventional</td>\n",
              "    </tr>\n",
              "    <tr>\n",
              "      <th>2</th>\n",
              "      <td>1139249</td>\n",
              "      <td>10000.0</td>\n",
              "      <td>434808</td>\n",
              "      <td>7009</td>\n",
              "      <td>121</td>\n",
              "      <td>3.0</td>\n",
              "      <td>2001</td>\n",
              "      <td>2838.0</td>\n",
              "      <td>High</td>\n",
              "      <td>2004-02-26</td>\n",
              "      <td>...</td>\n",
              "      <td>NaN</td>\n",
              "      <td>NaN</td>\n",
              "      <td>NaN</td>\n",
              "      <td>NaN</td>\n",
              "      <td>NaN</td>\n",
              "      <td>NaN</td>\n",
              "      <td>NaN</td>\n",
              "      <td>NaN</td>\n",
              "      <td>NaN</td>\n",
              "      <td>NaN</td>\n",
              "    </tr>\n",
              "    <tr>\n",
              "      <th>3</th>\n",
              "      <td>1139251</td>\n",
              "      <td>38500.0</td>\n",
              "      <td>1026470</td>\n",
              "      <td>332</td>\n",
              "      <td>121</td>\n",
              "      <td>3.0</td>\n",
              "      <td>2001</td>\n",
              "      <td>3486.0</td>\n",
              "      <td>High</td>\n",
              "      <td>2011-05-19</td>\n",
              "      <td>...</td>\n",
              "      <td>NaN</td>\n",
              "      <td>NaN</td>\n",
              "      <td>NaN</td>\n",
              "      <td>NaN</td>\n",
              "      <td>NaN</td>\n",
              "      <td>NaN</td>\n",
              "      <td>NaN</td>\n",
              "      <td>NaN</td>\n",
              "      <td>NaN</td>\n",
              "      <td>NaN</td>\n",
              "    </tr>\n",
              "    <tr>\n",
              "      <th>4</th>\n",
              "      <td>1139253</td>\n",
              "      <td>11000.0</td>\n",
              "      <td>1057373</td>\n",
              "      <td>17311</td>\n",
              "      <td>121</td>\n",
              "      <td>3.0</td>\n",
              "      <td>2007</td>\n",
              "      <td>722.0</td>\n",
              "      <td>Medium</td>\n",
              "      <td>2009-07-23</td>\n",
              "      <td>...</td>\n",
              "      <td>NaN</td>\n",
              "      <td>NaN</td>\n",
              "      <td>NaN</td>\n",
              "      <td>NaN</td>\n",
              "      <td>NaN</td>\n",
              "      <td>NaN</td>\n",
              "      <td>NaN</td>\n",
              "      <td>NaN</td>\n",
              "      <td>NaN</td>\n",
              "      <td>NaN</td>\n",
              "    </tr>\n",
              "  </tbody>\n",
              "</table>\n",
              "<p>5 rows × 53 columns</p>\n",
              "</div>\n",
              "      <button class=\"colab-df-convert\" onclick=\"convertToInteractive('df-240d3d28-e7f1-441f-8c6a-64bc745e39e2')\"\n",
              "              title=\"Convert this dataframe to an interactive table.\"\n",
              "              style=\"display:none;\">\n",
              "        \n",
              "  <svg xmlns=\"http://www.w3.org/2000/svg\" height=\"24px\"viewBox=\"0 0 24 24\"\n",
              "       width=\"24px\">\n",
              "    <path d=\"M0 0h24v24H0V0z\" fill=\"none\"/>\n",
              "    <path d=\"M18.56 5.44l.94 2.06.94-2.06 2.06-.94-2.06-.94-.94-2.06-.94 2.06-2.06.94zm-11 1L8.5 8.5l.94-2.06 2.06-.94-2.06-.94L8.5 2.5l-.94 2.06-2.06.94zm10 10l.94 2.06.94-2.06 2.06-.94-2.06-.94-.94-2.06-.94 2.06-2.06.94z\"/><path d=\"M17.41 7.96l-1.37-1.37c-.4-.4-.92-.59-1.43-.59-.52 0-1.04.2-1.43.59L10.3 9.45l-7.72 7.72c-.78.78-.78 2.05 0 2.83L4 21.41c.39.39.9.59 1.41.59.51 0 1.02-.2 1.41-.59l7.78-7.78 2.81-2.81c.8-.78.8-2.07 0-2.86zM5.41 20L4 18.59l7.72-7.72 1.47 1.35L5.41 20z\"/>\n",
              "  </svg>\n",
              "      </button>\n",
              "      \n",
              "  <style>\n",
              "    .colab-df-container {\n",
              "      display:flex;\n",
              "      flex-wrap:wrap;\n",
              "      gap: 12px;\n",
              "    }\n",
              "\n",
              "    .colab-df-convert {\n",
              "      background-color: #E8F0FE;\n",
              "      border: none;\n",
              "      border-radius: 50%;\n",
              "      cursor: pointer;\n",
              "      display: none;\n",
              "      fill: #1967D2;\n",
              "      height: 32px;\n",
              "      padding: 0 0 0 0;\n",
              "      width: 32px;\n",
              "    }\n",
              "\n",
              "    .colab-df-convert:hover {\n",
              "      background-color: #E2EBFA;\n",
              "      box-shadow: 0px 1px 2px rgba(60, 64, 67, 0.3), 0px 1px 3px 1px rgba(60, 64, 67, 0.15);\n",
              "      fill: #174EA6;\n",
              "    }\n",
              "\n",
              "    [theme=dark] .colab-df-convert {\n",
              "      background-color: #3B4455;\n",
              "      fill: #D2E3FC;\n",
              "    }\n",
              "\n",
              "    [theme=dark] .colab-df-convert:hover {\n",
              "      background-color: #434B5C;\n",
              "      box-shadow: 0px 1px 3px 1px rgba(0, 0, 0, 0.15);\n",
              "      filter: drop-shadow(0px 1px 2px rgba(0, 0, 0, 0.3));\n",
              "      fill: #FFFFFF;\n",
              "    }\n",
              "  </style>\n",
              "\n",
              "      <script>\n",
              "        const buttonEl =\n",
              "          document.querySelector('#df-240d3d28-e7f1-441f-8c6a-64bc745e39e2 button.colab-df-convert');\n",
              "        buttonEl.style.display =\n",
              "          google.colab.kernel.accessAllowed ? 'block' : 'none';\n",
              "\n",
              "        async function convertToInteractive(key) {\n",
              "          const element = document.querySelector('#df-240d3d28-e7f1-441f-8c6a-64bc745e39e2');\n",
              "          const dataTable =\n",
              "            await google.colab.kernel.invokeFunction('convertToInteractive',\n",
              "                                                     [key], {});\n",
              "          if (!dataTable) return;\n",
              "\n",
              "          const docLinkHtml = 'Like what you see? Visit the ' +\n",
              "            '<a target=\"_blank\" href=https://colab.research.google.com/notebooks/data_table.ipynb>data table notebook</a>'\n",
              "            + ' to learn more about interactive tables.';\n",
              "          element.innerHTML = '';\n",
              "          dataTable['output_type'] = 'display_data';\n",
              "          await google.colab.output.renderOutput(dataTable, element);\n",
              "          const docLink = document.createElement('div');\n",
              "          docLink.innerHTML = docLinkHtml;\n",
              "          element.appendChild(docLink);\n",
              "        }\n",
              "      </script>\n",
              "    </div>\n",
              "  </div>\n",
              "  "
            ]
          },
          "metadata": {},
          "execution_count": 39
        }
      ]
    },
    {
      "cell_type": "code",
      "source": [
        "# Frequency of sales price\n",
        "\n",
        "fig, ax = plt.subplots(figsize=(10,6))\n",
        "ax = df['SalePrice'].plot.hist()"
      ],
      "metadata": {
        "colab": {
          "base_uri": "https://localhost:8080/",
          "height": 374
        },
        "id": "LA6QcL76PB2Q",
        "outputId": "6f45aa2e-a75b-43a1-b046-8b4540615b31"
      },
      "execution_count": 40,
      "outputs": [
        {
          "output_type": "display_data",
          "data": {
            "text/plain": [
              "<Figure size 720x432 with 1 Axes>"
            ],
            "image/png": "[encoded data removed]"
          },
          "metadata": {
            "needs_background": "light"
          }
        }
      ]
    },
    {
      "cell_type": "code",
      "source": [
        "# Sales price by year for the first 5000 samples\n",
        "\n",
        "fig, ax = plt.subplots(figsize=(12,8))\n",
        "ax = plt.scatter(df['SalePrice'][:5000], df['saledate'][:5000])"
      ],
      "metadata": {
        "id": "4hcCa9m2WKue",
        "colab": {
          "base_uri": "https://localhost:8080/",
          "height": 485
        },
        "outputId": "7e9ef845-b1d7-4e50-8d3d-32d38abd3286"
      },
      "execution_count": 41,
      "outputs": [
        {
          "output_type": "display_data",
          "data": {
            "text/plain": [
              "<Figure size 864x576 with 1 Axes>"
            ],
            "image/png": "[encoded data removed]"
          },
          "metadata": {
            "needs_background": "light"
          }
        }
      ]
    },
    {
      "cell_type": "code",
      "source": [
        "# Sort the DataFrame by Date\n",
        "\n",
        "df.sort_values('saledate', ascending=True, inplace=True)"
      ],
      "metadata": {
        "id": "xwr34gagZpAc"
      },
      "execution_count": 42,
      "outputs": []
    },
    {
      "cell_type": "code",
      "source": [
        "# Making a copy of the original df\n",
        "\n",
        "df_2 = df.copy()"
      ],
      "metadata": {
        "id": "T5lDVzYAbGBt"
      },
      "execution_count": 43,
      "outputs": []
    },
    {
      "cell_type": "code",
      "source": [
        "# Split the saledate into day/month/year columns\n",
        "\n",
        "df_2['year_sale'] = df_2['saledate'].dt.year\n",
        "df_2['month_sale'] = df_2['saledate'].dt.month\n",
        "df_2['day_sale'] = df_2['saledate'].dt.day\n",
        "\n",
        "df_2.drop('saledate', axis=1, inplace=True)"
      ],
      "metadata": {
        "id": "Bog3hHn0b2ng"
      },
      "execution_count": 44,
      "outputs": []
    },
    {
      "cell_type": "markdown",
      "source": [
        "#**Turning Data into Numbers / Filling Missing Values**"
      ],
      "metadata": {
        "id": "mwFUtyC4wDq1"
      }
    },
    {
      "cell_type": "code",
      "source": [
        "# Change the string dtype columns into category dtype columns so we can can convert them to numbers\n",
        "\n",
        "for label, content in df_2.items():\n",
        "  if pd.api.types.is_string_dtype(content):\n",
        "    df_2[label] = content.astype('category').cat.as_ordered()"
      ],
      "metadata": {
        "id": "RbWKuFystl_2"
      },
      "execution_count": 45,
      "outputs": []
    },
    {
      "cell_type": "code",
      "source": [
        "# Filling the numerical columns missing values\n",
        "\n",
        "for label, content in df_2.items():\n",
        "  if pd.api.types.is_numeric_dtype(content):\n",
        "    if pd.isna(content).sum():\n",
        "      df_2[label + '_missing_value'] = pd.isna(content)\n",
        "      df_2[label] = content.fillna(content.median())"
      ],
      "metadata": {
        "id": "R9x6ddgfurMi"
      },
      "execution_count": 46,
      "outputs": []
    },
    {
      "cell_type": "code",
      "source": [
        "# Turning the category columns into numbers\n",
        "# 0 will be assigned to the missing values\n",
        "\n",
        "for label, content in df_2.items():\n",
        "  if not pd.api.types.is_numeric_dtype(content):\n",
        "    df_2[label] = pd.Categorical(content).codes + 1  # Missing values will be 0 instead of -1"
      ],
      "metadata": {
        "id": "LwhGGovs2Pcf"
      },
      "execution_count": 54,
      "outputs": []
    },
    {
      "cell_type": "markdown",
      "source": [
        "#**Modelling**"
      ],
      "metadata": {
        "id": "EvHgNQSV5nok"
      }
    },
    {
      "cell_type": "code",
      "source": [
        "# Split data into train and validation\n",
        "\n",
        "df_train = df_2[df_2['year_sale'] != 2012]\n",
        "df_validate = df_2[df_2['year_sale'] == 2012]\n",
        "len(df_train), len(df_validate)"
      ],
      "metadata": {
        "colab": {
          "base_uri": "https://localhost:8080/"
        },
        "id": "DhObZgr-8LbW",
        "outputId": "95cf4155-b8ea-4240-c040-689827602a57"
      },
      "execution_count": 62,
      "outputs": [
        {
          "output_type": "execute_result",
          "data": {
            "text/plain": [
              "(401125, 11573)"
            ]
          },
          "metadata": {},
          "execution_count": 62
        }
      ]
    },
    {
      "cell_type": "code",
      "source": [
        "# Split data into X and y\n",
        "\n",
        "X_train, y_train = df_train.drop('SalePrice', axis=1), df_train['SalePrice']\n",
        "X_valid, y_valid = df_validate.drop('SalePrice', axis=1), df_validate['SalePrice']"
      ],
      "metadata": {
        "id": "V06z9g8lAqs3"
      },
      "execution_count": 67,
      "outputs": []
    },
    {
      "cell_type": "code",
      "source": [
        "# Evaluation functions\n",
        "\n",
        "def rmsle(y_true, y_pred):\n",
        "  \"\"\"\n",
        "  Calculates the root mean squared log error between predictions and true labels \n",
        "  \"\"\"\n",
        "  return np.sqrt(mean_squared_log_error(y_true, y_pred))\n",
        "\n",
        "def show_scores(model):\n",
        "  \"\"\"\n",
        "  Calculates the scores of our model\n",
        "  \"\"\"\n",
        "  y_preds = model.predict(X_train)\n",
        "  y_valid_preds = model.predict(X_valid)\n",
        "  score = {\n",
        "      'RMSLE': rmsle(y_train, y_preds),\n",
        "      'MSLE': mean_squared_log_error(y_train, y_preds),\n",
        "      'R2': r2_score(y_train, y_preds),\n",
        "      'MAE': mean_absolute_error(y_train, y_preds),\n",
        "      'RMSLE-Validation': rmsle(y_valid, y_valid_preds),\n",
        "      'MSLE-Validation': mean_squared_log_error(y_valid, y_valid_preds),\n",
        "      'R2-Validation': r2_score(y_valid, y_valid_preds),\n",
        "      'MAE-Validation': mean_absolute_error(y_valid, y_valid_preds)\n",
        "  }\n",
        "  return score"
      ],
      "metadata": {
        "id": "dUaBSqbaBhaT"
      },
      "execution_count": 84,
      "outputs": []
    },
    {
      "cell_type": "code",
      "source": [
        "# Train the model\n",
        "\n",
        "%%time\n",
        "\n",
        "model = RandomForestRegressor(n_jobs=-1,\n",
        "                              random_state=42,\n",
        "                              max_samples=10000)\n",
        "\n",
        "model.fit(X_train, y_train)"
      ],
      "metadata": {
        "colab": {
          "base_uri": "https://localhost:8080/"
        },
        "id": "oSKEVn0dGQ1S",
        "outputId": "c95b4527-ad24-47f1-e34d-1d6323ceddbf"
      },
      "execution_count": 71,
      "outputs": [
        {
          "output_type": "stream",
          "name": "stdout",
          "text": [
            "CPU times: user 28.2 s, sys: 366 ms, total: 28.6 s\n",
            "Wall time: 15.5 s\n"
          ]
        }
      ]
    },
    {
      "cell_type": "code",
      "source": [
        "show_scores(model)"
      ],
      "metadata": {
        "colab": {
          "base_uri": "https://localhost:8080/"
        },
        "id": "xfxYyZM3Ih7Z",
        "outputId": "1fc95733-770e-4370-dd22-8c1788fa11b5"
      },
      "execution_count": 85,
      "outputs": [
        {
          "output_type": "execute_result",
          "data": {
            "text/plain": [
              "{'MAE': 5531.308859557494,\n",
              " 'MAE-Validation': 7097.811086148795,\n",
              " 'MSLE': 0.0658225358988104,\n",
              " 'MSLE-Validation': 0.0839456817944636,\n",
              " 'R2': 0.8620104145385641,\n",
              " 'R2-Validation': 0.8340174443633719,\n",
              " 'RMSLE': 0.2565590300472981,\n",
              " 'RMSLE-Validation': 0.28973381196274556}"
            ]
          },
          "metadata": {},
          "execution_count": 85
        }
      ]
    },
    {
      "cell_type": "code",
      "source": [
        "# Tuning our model with RSCV\n",
        "\n",
        "%%time\n",
        "\n",
        "rf_grid = {\n",
        "    'n_estimators': np.arange(50 , 151, 10),\n",
        "    'max_depth': [None, 3, 5, 10],\n",
        "    'min_samples_leaf': np.arange(1, 21, 2),\n",
        "    'min_samples_split': np.arange(2, 21, 2),\n",
        "    'max_features': [1, 'auto', 'sqrt'],\n",
        "    'max_samples': [10000]\n",
        "}\n",
        "\n",
        "rs_model = RandomizedSearchCV(RandomForestRegressor(n_jobs=-1,\n",
        "                                                    random_state=42),\n",
        "                              param_distributions=rf_grid,\n",
        "                              n_iter=6,\n",
        "                              cv=5,\n",
        "                              verbose=True)\n",
        "\n",
        "rs_model.fit(X_train, y_train)"
      ],
      "metadata": {
        "colab": {
          "base_uri": "https://localhost:8080/"
        },
        "id": "RXzI_r_iIlSX",
        "outputId": "735aa8bc-c18a-4e94-d14f-ad008e070e6e"
      },
      "execution_count": 90,
      "outputs": [
        {
          "output_type": "stream",
          "name": "stdout",
          "text": [
            "Fitting 5 folds for each of 6 candidates, totalling 30 fits\n",
            "CPU times: user 1min 21s, sys: 3.38 s, total: 1min 24s\n",
            "Wall time: 2min 38s\n"
          ]
        }
      ]
    },
    {
      "cell_type": "code",
      "source": [
        "# The ideal model\n",
        "\n",
        "ideal_model = RandomForestRegressor(n_estimators = 70, \n",
        "                                    n_jobs= -1,\n",
        "                                    min_samples_leaf = 1,\n",
        "                                    min_samples_split = 14,\n",
        "                                    max_features = 0.5\n",
        "                                    )\n",
        "\n",
        "ideal_model.fit(X_train, y_train)"
      ],
      "metadata": {
        "colab": {
          "base_uri": "https://localhost:8080/"
        },
        "id": "T1MvwVZnR9rs",
        "outputId": "b098813f-f0b3-4b3d-d774-fbd4eba8f0b8"
      },
      "execution_count": 93,
      "outputs": [
        {
          "output_type": "execute_result",
          "data": {
            "text/plain": [
              "RandomForestRegressor(max_features=0.5, min_samples_split=14, n_estimators=70,\n",
              "                      n_jobs=-1)"
            ]
          },
          "metadata": {},
          "execution_count": 93
        }
      ]
    },
    {
      "cell_type": "markdown",
      "source": [
        "#**Evaluate the Model**"
      ],
      "metadata": {
        "id": "N3EA3FIoS9n7"
      }
    },
    {
      "cell_type": "code",
      "source": [
        "show_scores(ideal_model)"
      ],
      "metadata": {
        "colab": {
          "base_uri": "https://localhost:8080/"
        },
        "id": "XAcXEwp4TlKQ",
        "outputId": "ded18e21-dc83-41a1-eaae-b2bd6f2428ac"
      },
      "execution_count": 94,
      "outputs": [
        {
          "output_type": "execute_result",
          "data": {
            "text/plain": [
              "{'MAE': 2995.731161303605,\n",
              " 'MAE-Validation': 5908.243517428054,\n",
              " 'MSLE': 0.021353310008188773,\n",
              " 'MSLE-Validation': 0.05893393221458839,\n",
              " 'R2': 0.957952583680232,\n",
              " 'R2-Validation': 0.8827230903123455,\n",
              " 'RMSLE': 0.14612771813789735,\n",
              " 'RMSLE-Validation': 0.2427631195519377}"
            ]
          },
          "metadata": {},
          "execution_count": 94
        }
      ]
    },
    {
      "cell_type": "code",
      "source": [
        "# Import the test data set / getting the test data set in the same format as the training dataset / evaluate the test data set\n",
        "\n",
        "df_test = pd.read_csv('/content/drive/MyDrive/Colab Notebooks/files/Test.csv', low_memory=False, parse_dates=['saledate'])"
      ],
      "metadata": {
        "id": "lOrnMi3FToCO"
      },
      "execution_count": 113,
      "outputs": []
    },
    {
      "cell_type": "code",
      "source": [
        "df.sort_values('saledate', ascending=True, inplace=True)\n",
        "df_test['year_sale'] = df_test['saledate'].dt.year\n",
        "df_test['month_sale'] = df_test['saledate'].dt.month\n",
        "df_test['day_sale'] = df_test['saledate'].dt.day\n",
        "\n",
        "df_test.drop('saledate', axis=1, inplace=True)\n",
        "\n",
        "for label, content in df_test.items():\n",
        "  if pd.api.types.is_string_dtype(content):\n",
        "    df_test[label] = content.astype('category').cat.as_ordered()\n",
        "\n",
        "for label, content in df_test.items():\n",
        "  if pd.api.types.is_numeric_dtype(content):\n",
        "    if pd.isna(content).sum():\n",
        "      df_test[label + '_missing_value'] = pd.isna(content) \n",
        "      df_test[label] = content.fillna(content.median())\n",
        "\n",
        "for label, content in df_test.items():\n",
        "  if not pd.api.types.is_numeric_dtype(content):\n",
        "    df_test[label] = pd.Categorical(content).codes + 1"
      ],
      "metadata": {
        "id": "eaDAi4sjWUvJ"
      },
      "execution_count": 114,
      "outputs": []
    },
    {
      "cell_type": "code",
      "source": [
        "set(X_train.columns) - set(df_test.columns)"
      ],
      "metadata": {
        "colab": {
          "base_uri": "https://localhost:8080/"
        },
        "id": "xxetKigdX9o5",
        "outputId": "eb12f0e5-bd85-4ef9-b6d5-f0ca30868606"
      },
      "execution_count": 115,
      "outputs": [
        {
          "output_type": "execute_result",
          "data": {
            "text/plain": [
              "{'auctioneerID_missing_value'}"
            ]
          },
          "metadata": {},
          "execution_count": 115
        }
      ]
    },
    {
      "cell_type": "code",
      "source": [
        "X_train.auctioneerID_missing_value"
      ],
      "metadata": {
        "colab": {
          "base_uri": "https://localhost:8080/"
        },
        "id": "xNmXKm_WYy3j",
        "outputId": "e0c70ce9-b84f-4989-af3c-fef6757e79f0"
      },
      "execution_count": 116,
      "outputs": [
        {
          "output_type": "execute_result",
          "data": {
            "text/plain": [
              "205615    False\n",
              "274835    False\n",
              "141296    False\n",
              "212552    False\n",
              "62755     False\n",
              "          ...  \n",
              "393098    False\n",
              "400217    False\n",
              "400302    False\n",
              "400393    False\n",
              "393123    False\n",
              "Name: auctioneerID_missing_value, Length: 401125, dtype: bool"
            ]
          },
          "metadata": {},
          "execution_count": 116
        }
      ]
    },
    {
      "cell_type": "code",
      "source": [
        "df_test['auctioneerID_missing_value'] = False"
      ],
      "metadata": {
        "id": "YeO6JDF-ZwwZ"
      },
      "execution_count": 117,
      "outputs": []
    },
    {
      "cell_type": "code",
      "source": [
        "df_test = df_test[X_train.columns]"
      ],
      "metadata": {
        "id": "GtI2M01RayEW"
      },
      "execution_count": 119,
      "outputs": []
    },
    {
      "cell_type": "code",
      "source": [
        "test_predictions = ideal_model.predict(df_test)"
      ],
      "metadata": {
        "id": "4X_-0sOrZ-nT"
      },
      "execution_count": 120,
      "outputs": []
    },
    {
      "cell_type": "code",
      "source": [
        "df_preds = pd.DataFrame()\n",
        "df_preds['SalesID'] = df_test['SalesID']\n",
        "df_preds['SalePrice'] = test_predictions\n",
        "df_preds"
      ],
      "metadata": {
        "colab": {
          "base_uri": "https://localhost:8080/",
          "height": 424
        },
        "id": "-4dj7A75a6j1",
        "outputId": "13f4489c-b1f2-48f8-b4ae-846a5e62f28f"
      },
      "execution_count": 123,
      "outputs": [
        {
          "output_type": "execute_result",
          "data": {
            "text/plain": [
              "       SalesID     SalePrice\n",
              "0      1227829  18716.212620\n",
              "1      1227844  16716.748981\n",
              "2      1227847  46060.867853\n",
              "3      1227848  60931.594696\n",
              "4      1227863  51767.018570\n",
              "...        ...           ...\n",
              "12452  6643171  40795.615614\n",
              "12453  6643173  13274.861296\n",
              "12454  6643184  13865.376148\n",
              "12455  6643186  19025.919483\n",
              "12456  6643196  26381.395658\n",
              "\n",
              "[12457 rows x 2 columns]"
            ],
            "text/html": [
              "\n",
              "  <div id=\"df-89dea02b-2912-46f0-a2bc-5ef8814eb8a5\">\n",
              "    <div class=\"colab-df-container\">\n",
              "      <div>\n",
              "<style scoped>\n",
              "    .dataframe tbody tr th:only-of-type {\n",
              "        vertical-align: middle;\n",
              "    }\n",
              "\n",
              "    .dataframe tbody tr th {\n",
              "        vertical-align: top;\n",
              "    }\n",
              "\n",
              "    .dataframe thead th {\n",
              "        text-align: right;\n",
              "    }\n",
              "</style>\n",
              "<table border=\"1\" class=\"dataframe\">\n",
              "  <thead>\n",
              "    <tr style=\"text-align: right;\">\n",
              "      <th></th>\n",
              "      <th>SalesID</th>\n",
              "      <th>SalePrice</th>\n",
              "    </tr>\n",
              "  </thead>\n",
              "  <tbody>\n",
              "    <tr>\n",
              "      <th>0</th>\n",
              "      <td>1227829</td>\n",
              "      <td>18716.212620</td>\n",
              "    </tr>\n",
              "    <tr>\n",
              "      <th>1</th>\n",
              "      <td>1227844</td>\n",
              "      <td>16716.748981</td>\n",
              "    </tr>\n",
              "    <tr>\n",
              "      <th>2</th>\n",
              "      <td>1227847</td>\n",
              "      <td>46060.867853</td>\n",
              "    </tr>\n",
              "    <tr>\n",
              "      <th>3</th>\n",
              "      <td>1227848</td>\n",
              "      <td>60931.594696</td>\n",
              "    </tr>\n",
              "    <tr>\n",
              "      <th>4</th>\n",
              "      <td>1227863</td>\n",
              "      <td>51767.018570</td>\n",
              "    </tr>\n",
              "    <tr>\n",
              "      <th>...</th>\n",
              "      <td>...</td>\n",
              "      <td>...</td>\n",
              "    </tr>\n",
              "    <tr>\n",
              "      <th>12452</th>\n",
              "      <td>6643171</td>\n",
              "      <td>40795.615614</td>\n",
              "    </tr>\n",
              "    <tr>\n",
              "      <th>12453</th>\n",
              "      <td>6643173</td>\n",
              "      <td>13274.861296</td>\n",
              "    </tr>\n",
              "    <tr>\n",
              "      <th>12454</th>\n",
              "      <td>6643184</td>\n",
              "      <td>13865.376148</td>\n",
              "    </tr>\n",
              "    <tr>\n",
              "      <th>12455</th>\n",
              "      <td>6643186</td>\n",
              "      <td>19025.919483</td>\n",
              "    </tr>\n",
              "    <tr>\n",
              "      <th>12456</th>\n",
              "      <td>6643196</td>\n",
              "      <td>26381.395658</td>\n",
              "    </tr>\n",
              "  </tbody>\n",
              "</table>\n",
              "<p>12457 rows × 2 columns</p>\n",
              "</div>\n",
              "      <button class=\"colab-df-convert\" onclick=\"convertToInteractive('df-89dea02b-2912-46f0-a2bc-5ef8814eb8a5')\"\n",
              "              title=\"Convert this dataframe to an interactive table.\"\n",
              "              style=\"display:none;\">\n",
              "        \n",
              "  <svg xmlns=\"http://www.w3.org/2000/svg\" height=\"24px\"viewBox=\"0 0 24 24\"\n",
              "       width=\"24px\">\n",
              "    <path d=\"M0 0h24v24H0V0z\" fill=\"none\"/>\n",
              "    <path d=\"M18.56 5.44l.94 2.06.94-2.06 2.06-.94-2.06-.94-.94-2.06-.94 2.06-2.06.94zm-11 1L8.5 8.5l.94-2.06 2.06-.94-2.06-.94L8.5 2.5l-.94 2.06-2.06.94zm10 10l.94 2.06.94-2.06 2.06-.94-2.06-.94-.94-2.06-.94 2.06-2.06.94z\"/><path d=\"M17.41 7.96l-1.37-1.37c-.4-.4-.92-.59-1.43-.59-.52 0-1.04.2-1.43.59L10.3 9.45l-7.72 7.72c-.78.78-.78 2.05 0 2.83L4 21.41c.39.39.9.59 1.41.59.51 0 1.02-.2 1.41-.59l7.78-7.78 2.81-2.81c.8-.78.8-2.07 0-2.86zM5.41 20L4 18.59l7.72-7.72 1.47 1.35L5.41 20z\"/>\n",
              "  </svg>\n",
              "      </button>\n",
              "      \n",
              "  <style>\n",
              "    .colab-df-container {\n",
              "      display:flex;\n",
              "      flex-wrap:wrap;\n",
              "      gap: 12px;\n",
              "    }\n",
              "\n",
              "    .colab-df-convert {\n",
              "      background-color: #E8F0FE;\n",
              "      border: none;\n",
              "      border-radius: 50%;\n",
              "      cursor: pointer;\n",
              "      display: none;\n",
              "      fill: #1967D2;\n",
              "      height: 32px;\n",
              "      padding: 0 0 0 0;\n",
              "      width: 32px;\n",
              "    }\n",
              "\n",
              "    .colab-df-convert:hover {\n",
              "      background-color: #E2EBFA;\n",
              "      box-shadow: 0px 1px 2px rgba(60, 64, 67, 0.3), 0px 1px 3px 1px rgba(60, 64, 67, 0.15);\n",
              "      fill: #174EA6;\n",
              "    }\n",
              "\n",
              "    [theme=dark] .colab-df-convert {\n",
              "      background-color: #3B4455;\n",
              "      fill: #D2E3FC;\n",
              "    }\n",
              "\n",
              "    [theme=dark] .colab-df-convert:hover {\n",
              "      background-color: #434B5C;\n",
              "      box-shadow: 0px 1px 3px 1px rgba(0, 0, 0, 0.15);\n",
              "      filter: drop-shadow(0px 1px 2px rgba(0, 0, 0, 0.3));\n",
              "      fill: #FFFFFF;\n",
              "    }\n",
              "  </style>\n",
              "\n",
              "      <script>\n",
              "        const buttonEl =\n",
              "          document.querySelector('#df-89dea02b-2912-46f0-a2bc-5ef8814eb8a5 button.colab-df-convert');\n",
              "        buttonEl.style.display =\n",
              "          google.colab.kernel.accessAllowed ? 'block' : 'none';\n",
              "\n",
              "        async function convertToInteractive(key) {\n",
              "          const element = document.querySelector('#df-89dea02b-2912-46f0-a2bc-5ef8814eb8a5');\n",
              "          const dataTable =\n",
              "            await google.colab.kernel.invokeFunction('convertToInteractive',\n",
              "                                                     [key], {});\n",
              "          if (!dataTable) return;\n",
              "\n",
              "          const docLinkHtml = 'Like what you see? Visit the ' +\n",
              "            '<a target=\"_blank\" href=https://colab.research.google.com/notebooks/data_table.ipynb>data table notebook</a>'\n",
              "            + ' to learn more about interactive tables.';\n",
              "          element.innerHTML = '';\n",
              "          dataTable['output_type'] = 'display_data';\n",
              "          await google.colab.output.renderOutput(dataTable, element);\n",
              "          const docLink = document.createElement('div');\n",
              "          docLink.innerHTML = docLinkHtml;\n",
              "          element.appendChild(docLink);\n",
              "        }\n",
              "      </script>\n",
              "    </div>\n",
              "  </div>\n",
              "  "
            ]
          },
          "metadata": {},
          "execution_count": 123
        }
      ]
    },
    {
      "cell_type": "code",
      "source": [
        "df_preds.to_csv('Sales_Price_Predictions.csv')"
      ],
      "metadata": {
        "id": "UdIH5fi_brzO"
      },
      "execution_count": 124,
      "outputs": []
    },
    {
      "cell_type": "markdown",
      "source": [
        "#**Importance of the Features**"
      ],
      "metadata": {
        "id": "dNx5dTadcIBI"
      }
    },
    {
      "cell_type": "code",
      "source": [
        "df_test.columns.shape, ideal_model.feature_importances_.shape"
      ],
      "metadata": {
        "colab": {
          "base_uri": "https://localhost:8080/"
        },
        "id": "6M4x6kYiiY4k",
        "outputId": "be3d8f41-b1f0-42be-e765-288a598ffa3c"
      },
      "execution_count": 148,
      "outputs": [
        {
          "output_type": "execute_result",
          "data": {
            "text/plain": [
              "((56,), (56,))"
            ]
          },
          "metadata": {},
          "execution_count": 148
        }
      ]
    },
    {
      "cell_type": "code",
      "source": [
        "def features_importance(cols , importance):\n",
        "  df = pd.DataFrame({\n",
        "      'Features': cols,\n",
        "      'Importance': importance\n",
        "  }).sort_values('Importance')\n",
        "\n",
        "  fig, ax = plt.subplots(figsize=(12,8))\n",
        "  ax = plt.barh(df['Features'][-15:], df['Importance'][-15:])\n",
        "\n",
        "features_importance(df_test.columns, ideal_model.feature_importances_)"
      ],
      "metadata": {
        "colab": {
          "base_uri": "https://localhost:8080/",
          "height": 483
        },
        "id": "2E65tbWEcy6q",
        "outputId": "283dbb04-5bfc-465c-b830-44019fa75e86"
      },
      "execution_count": 149,
      "outputs": [
        {
          "output_type": "display_data",
          "data": {
            "text/plain": [
              "<Figure size 864x576 with 1 Axes>"
            ],
            "image/png": "[encoded data removed]"
          },
          "metadata": {
            "needs_background": "light"
          }
        }
      ]
    },
    {
      "cell_type": "code",
      "source": [
        "import joblib\n",
        "joblib.dump(ideal_model, filename=\"RandomForestRegressor_model.joblib\")"
      ],
      "metadata": {
        "colab": {
          "base_uri": "https://localhost:8080/"
        },
        "id": "OUAz1GrYijve",
        "outputId": "af8e2ce6-7a39-4737-e2e4-06b6cf4d163d"
      },
      "execution_count": 150,
      "outputs": [
        {
          "output_type": "execute_result",
          "data": {
            "text/plain": [
              "['RandomForestRegressor_model.joblib']"
            ]
          },
          "metadata": {},
          "execution_count": 150
        }
      ]
    }
  ]
}